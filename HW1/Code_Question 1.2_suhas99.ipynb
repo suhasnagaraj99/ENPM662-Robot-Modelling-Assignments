{
 "cells": [
  {
   "cell_type": "code",
   "execution_count": 1,
   "id": "8d46c5bd",
   "metadata": {
    "scrolled": true
   },
   "outputs": [],
   "source": [
    "# Python Program to derive Kinematic Equations for 3 DOF Manipulator \n",
    "\n",
    "from sympy import *\n",
    "\n",
    "x = symbols(\"x\")              # x-coordinate of end effector\n",
    "y = symbols(\"y\")              # y-coordinate of end effector\n",
    "phi = symbols(\"phi\")          # Orientation of end effector\n",
    "t = symbols(\"t\")              # Time variable\n",
    "l1 = symbols(\"l1\")            # length of link 1\n",
    "l2 = symbols(\"l2\")            # length of link 2\n",
    "l3 = symbols(\"l3\")            # length of link 3\n",
    "t1 = symbols(\"t1\")            # Angle of link 1 wrt x-axis (base)\n",
    "t2 = symbols(\"t2\")            # Angle of link 2 wrt link 1\n",
    "t3 = symbols(\"t3\")            # Angle of link 3 wrt link 2\n",
    "l1_dot = symbols(\"l1_dot\")    # linear velocity of prismatic joint at link 1\n",
    "t1_dot = symbols(\"t1_dot\")    # angular velocity of revolute joint at link 1\n",
    "t3_dot = symbols(\"t3_dot\")    # angular velocity of revolute joint at link 3\n",
    "\n",
    "# Initialization of variables as a function of time\n",
    "\n",
    "l1 = Function('l1')(t)        # initialization of l1 as a function of time\n",
    "t1 = Function('t1')(t)        # initialization of theta 1 as a function of time\n",
    "t3 = Function('t3')(t)        # initialization of theta 3 as a function of time\n",
    "\n",
    "# Velocities of different joints\n",
    "\n",
    "l1_dot = diff(l1,t)           # linear velocity of prismatic joint between link 1 and 2\n",
    "t1_dot = diff(t1,t)           # angular velocity of revolute joint between link 1 and base\n",
    "t3_dot = diff(t3,t)           # angular velocity of revolute joint between link 2 and 3\n",
    "\n",
    "# Position and Orientation Equations\n",
    "\n",
    "x = (l1 * cos(t1)) + (l2 * cos(t1 + t2)) + (l3 * cos(t1 + t2 + t3))\n",
    "y = (l1 * sin(t1)) + (l2 * sin(t1 + t2)) - (l3 * sin(t1 + t2 + t3))\n",
    "phi = t1 + t2 + t3  # orientation of the end effector about x-axis\n",
    "\n",
    "# Velocity Equations\n",
    "\n",
    "x_dot = expand(expand_trig(expand(diff(x,t))))      # linear velocity of end effector along x-axis\n",
    "y_dot = expand(expand_trig(expand(diff(y,t))))      # linear velocity of end effector along y-axis\n",
    "phi_dot = diff(phi,t)                               # angular velocity of end effector about z-axis\n",
    "\n",
    "# To create a Jacobian Matrix of the form [[a,b,c],[d,e,f],[g,h,i]]\n",
    "\n",
    "a=x_dot.coeff(l1_dot)\n",
    "b=x_dot.coeff(t1_dot)\n",
    "c=x_dot.coeff(t3_dot)\n",
    "d=y_dot.coeff(l1_dot)\n",
    "e=y_dot.coeff(t1_dot)\n",
    "f=y_dot.coeff(t3_dot)\n",
    "g=phi_dot.coeff(l1_dot)\n",
    "h=phi_dot.coeff(t1_dot)\n",
    "i=phi_dot.coeff(t3_dot)\n",
    "\n",
    "J1=transpose(Matrix([a,b,c]))             # Row 1 of Jacobian Matrix\n",
    "J2=transpose(Matrix([d,e,f]))             # Row 2 of Jacobian Matrix\n",
    "J3=transpose(Matrix([g,h,i]))             # Row 3 of Jacobian Matrix\n",
    "\n",
    "Jacobian = Matrix.vstack(J1,J2,J3)        # Matrix of the shape 3X3\n",
    "\n",
    "Jacobian_inverse = Jacobian.inv()         # Inverse of Jacobian Matrix for Inverse Kinematics"
   ]
  },
  {
   "cell_type": "code",
   "execution_count": 2,
   "id": "d8e64ab4",
   "metadata": {
    "scrolled": false
   },
   "outputs": [
    {
     "data": {
      "text/latex": [
       "$\\displaystyle - l_{2} \\sin{\\left(t_{2} \\right)} \\cos{\\left(t_{1}{\\left(t \\right)} \\right)} \\frac{d}{d t} t_{1}{\\left(t \\right)} - l_{2} \\sin{\\left(t_{1}{\\left(t \\right)} \\right)} \\cos{\\left(t_{2} \\right)} \\frac{d}{d t} t_{1}{\\left(t \\right)} + l_{3} \\sin{\\left(t_{2} \\right)} \\sin{\\left(t_{1}{\\left(t \\right)} \\right)} \\sin{\\left(t_{3}{\\left(t \\right)} \\right)} \\frac{d}{d t} t_{1}{\\left(t \\right)} + l_{3} \\sin{\\left(t_{2} \\right)} \\sin{\\left(t_{1}{\\left(t \\right)} \\right)} \\sin{\\left(t_{3}{\\left(t \\right)} \\right)} \\frac{d}{d t} t_{3}{\\left(t \\right)} - l_{3} \\sin{\\left(t_{2} \\right)} \\cos{\\left(t_{1}{\\left(t \\right)} \\right)} \\cos{\\left(t_{3}{\\left(t \\right)} \\right)} \\frac{d}{d t} t_{1}{\\left(t \\right)} - l_{3} \\sin{\\left(t_{2} \\right)} \\cos{\\left(t_{1}{\\left(t \\right)} \\right)} \\cos{\\left(t_{3}{\\left(t \\right)} \\right)} \\frac{d}{d t} t_{3}{\\left(t \\right)} - l_{3} \\sin{\\left(t_{1}{\\left(t \\right)} \\right)} \\cos{\\left(t_{2} \\right)} \\cos{\\left(t_{3}{\\left(t \\right)} \\right)} \\frac{d}{d t} t_{1}{\\left(t \\right)} - l_{3} \\sin{\\left(t_{1}{\\left(t \\right)} \\right)} \\cos{\\left(t_{2} \\right)} \\cos{\\left(t_{3}{\\left(t \\right)} \\right)} \\frac{d}{d t} t_{3}{\\left(t \\right)} - l_{3} \\sin{\\left(t_{3}{\\left(t \\right)} \\right)} \\cos{\\left(t_{2} \\right)} \\cos{\\left(t_{1}{\\left(t \\right)} \\right)} \\frac{d}{d t} t_{1}{\\left(t \\right)} - l_{3} \\sin{\\left(t_{3}{\\left(t \\right)} \\right)} \\cos{\\left(t_{2} \\right)} \\cos{\\left(t_{1}{\\left(t \\right)} \\right)} \\frac{d}{d t} t_{3}{\\left(t \\right)} - l_{1}{\\left(t \\right)} \\sin{\\left(t_{1}{\\left(t \\right)} \\right)} \\frac{d}{d t} t_{1}{\\left(t \\right)} + \\cos{\\left(t_{1}{\\left(t \\right)} \\right)} \\frac{d}{d t} l_{1}{\\left(t \\right)}$"
      ],
      "text/plain": [
       "-l2*sin(t2)*cos(t1(t))*Derivative(t1(t), t) - l2*sin(t1(t))*cos(t2)*Derivative(t1(t), t) + l3*sin(t2)*sin(t1(t))*sin(t3(t))*Derivative(t1(t), t) + l3*sin(t2)*sin(t1(t))*sin(t3(t))*Derivative(t3(t), t) - l3*sin(t2)*cos(t1(t))*cos(t3(t))*Derivative(t1(t), t) - l3*sin(t2)*cos(t1(t))*cos(t3(t))*Derivative(t3(t), t) - l3*sin(t1(t))*cos(t2)*cos(t3(t))*Derivative(t1(t), t) - l3*sin(t1(t))*cos(t2)*cos(t3(t))*Derivative(t3(t), t) - l3*sin(t3(t))*cos(t2)*cos(t1(t))*Derivative(t1(t), t) - l3*sin(t3(t))*cos(t2)*cos(t1(t))*Derivative(t3(t), t) - l1(t)*sin(t1(t))*Derivative(t1(t), t) + cos(t1(t))*Derivative(l1(t), t)"
      ]
     },
     "execution_count": 2,
     "metadata": {},
     "output_type": "execute_result"
    }
   ],
   "source": [
    "x_dot"
   ]
  },
  {
   "cell_type": "code",
   "execution_count": 3,
   "id": "8366e7cf",
   "metadata": {},
   "outputs": [
    {
     "data": {
      "text/latex": [
       "$\\displaystyle - l_{2} \\sin{\\left(t_{2} \\right)} \\sin{\\left(t_{1}{\\left(t \\right)} \\right)} \\frac{d}{d t} t_{1}{\\left(t \\right)} + l_{2} \\cos{\\left(t_{2} \\right)} \\cos{\\left(t_{1}{\\left(t \\right)} \\right)} \\frac{d}{d t} t_{1}{\\left(t \\right)} + l_{3} \\sin{\\left(t_{2} \\right)} \\sin{\\left(t_{1}{\\left(t \\right)} \\right)} \\cos{\\left(t_{3}{\\left(t \\right)} \\right)} \\frac{d}{d t} t_{1}{\\left(t \\right)} + l_{3} \\sin{\\left(t_{2} \\right)} \\sin{\\left(t_{1}{\\left(t \\right)} \\right)} \\cos{\\left(t_{3}{\\left(t \\right)} \\right)} \\frac{d}{d t} t_{3}{\\left(t \\right)} + l_{3} \\sin{\\left(t_{2} \\right)} \\sin{\\left(t_{3}{\\left(t \\right)} \\right)} \\cos{\\left(t_{1}{\\left(t \\right)} \\right)} \\frac{d}{d t} t_{1}{\\left(t \\right)} + l_{3} \\sin{\\left(t_{2} \\right)} \\sin{\\left(t_{3}{\\left(t \\right)} \\right)} \\cos{\\left(t_{1}{\\left(t \\right)} \\right)} \\frac{d}{d t} t_{3}{\\left(t \\right)} + l_{3} \\sin{\\left(t_{1}{\\left(t \\right)} \\right)} \\sin{\\left(t_{3}{\\left(t \\right)} \\right)} \\cos{\\left(t_{2} \\right)} \\frac{d}{d t} t_{1}{\\left(t \\right)} + l_{3} \\sin{\\left(t_{1}{\\left(t \\right)} \\right)} \\sin{\\left(t_{3}{\\left(t \\right)} \\right)} \\cos{\\left(t_{2} \\right)} \\frac{d}{d t} t_{3}{\\left(t \\right)} - l_{3} \\cos{\\left(t_{2} \\right)} \\cos{\\left(t_{1}{\\left(t \\right)} \\right)} \\cos{\\left(t_{3}{\\left(t \\right)} \\right)} \\frac{d}{d t} t_{1}{\\left(t \\right)} - l_{3} \\cos{\\left(t_{2} \\right)} \\cos{\\left(t_{1}{\\left(t \\right)} \\right)} \\cos{\\left(t_{3}{\\left(t \\right)} \\right)} \\frac{d}{d t} t_{3}{\\left(t \\right)} + l_{1}{\\left(t \\right)} \\cos{\\left(t_{1}{\\left(t \\right)} \\right)} \\frac{d}{d t} t_{1}{\\left(t \\right)} + \\sin{\\left(t_{1}{\\left(t \\right)} \\right)} \\frac{d}{d t} l_{1}{\\left(t \\right)}$"
      ],
      "text/plain": [
       "-l2*sin(t2)*sin(t1(t))*Derivative(t1(t), t) + l2*cos(t2)*cos(t1(t))*Derivative(t1(t), t) + l3*sin(t2)*sin(t1(t))*cos(t3(t))*Derivative(t1(t), t) + l3*sin(t2)*sin(t1(t))*cos(t3(t))*Derivative(t3(t), t) + l3*sin(t2)*sin(t3(t))*cos(t1(t))*Derivative(t1(t), t) + l3*sin(t2)*sin(t3(t))*cos(t1(t))*Derivative(t3(t), t) + l3*sin(t1(t))*sin(t3(t))*cos(t2)*Derivative(t1(t), t) + l3*sin(t1(t))*sin(t3(t))*cos(t2)*Derivative(t3(t), t) - l3*cos(t2)*cos(t1(t))*cos(t3(t))*Derivative(t1(t), t) - l3*cos(t2)*cos(t1(t))*cos(t3(t))*Derivative(t3(t), t) + l1(t)*cos(t1(t))*Derivative(t1(t), t) + sin(t1(t))*Derivative(l1(t), t)"
      ]
     },
     "execution_count": 3,
     "metadata": {},
     "output_type": "execute_result"
    }
   ],
   "source": [
    "y_dot"
   ]
  },
  {
   "cell_type": "code",
   "execution_count": 4,
   "id": "6f9e60e2",
   "metadata": {},
   "outputs": [
    {
     "data": {
      "text/latex": [
       "$\\displaystyle \\frac{d}{d t} t_{1}{\\left(t \\right)} + \\frac{d}{d t} t_{3}{\\left(t \\right)}$"
      ],
      "text/plain": [
       "Derivative(t1(t), t) + Derivative(t3(t), t)"
      ]
     },
     "execution_count": 4,
     "metadata": {},
     "output_type": "execute_result"
    }
   ],
   "source": [
    "phi_dot"
   ]
  },
  {
   "cell_type": "code",
   "execution_count": 5,
   "id": "c26e510c",
   "metadata": {},
   "outputs": [
    {
     "data": {
      "text/latex": [
       "$\\displaystyle \\left[\\begin{matrix}\\cos{\\left(t_{1}{\\left(t \\right)} \\right)} & - l_{2} \\sin{\\left(t_{2} \\right)} \\cos{\\left(t_{1}{\\left(t \\right)} \\right)} - l_{2} \\sin{\\left(t_{1}{\\left(t \\right)} \\right)} \\cos{\\left(t_{2} \\right)} + l_{3} \\sin{\\left(t_{2} \\right)} \\sin{\\left(t_{1}{\\left(t \\right)} \\right)} \\sin{\\left(t_{3}{\\left(t \\right)} \\right)} - l_{3} \\sin{\\left(t_{2} \\right)} \\cos{\\left(t_{1}{\\left(t \\right)} \\right)} \\cos{\\left(t_{3}{\\left(t \\right)} \\right)} - l_{3} \\sin{\\left(t_{1}{\\left(t \\right)} \\right)} \\cos{\\left(t_{2} \\right)} \\cos{\\left(t_{3}{\\left(t \\right)} \\right)} - l_{3} \\sin{\\left(t_{3}{\\left(t \\right)} \\right)} \\cos{\\left(t_{2} \\right)} \\cos{\\left(t_{1}{\\left(t \\right)} \\right)} - l_{1}{\\left(t \\right)} \\sin{\\left(t_{1}{\\left(t \\right)} \\right)} & l_{3} \\sin{\\left(t_{2} \\right)} \\sin{\\left(t_{1}{\\left(t \\right)} \\right)} \\sin{\\left(t_{3}{\\left(t \\right)} \\right)} - l_{3} \\sin{\\left(t_{2} \\right)} \\cos{\\left(t_{1}{\\left(t \\right)} \\right)} \\cos{\\left(t_{3}{\\left(t \\right)} \\right)} - l_{3} \\sin{\\left(t_{1}{\\left(t \\right)} \\right)} \\cos{\\left(t_{2} \\right)} \\cos{\\left(t_{3}{\\left(t \\right)} \\right)} - l_{3} \\sin{\\left(t_{3}{\\left(t \\right)} \\right)} \\cos{\\left(t_{2} \\right)} \\cos{\\left(t_{1}{\\left(t \\right)} \\right)}\\\\\\sin{\\left(t_{1}{\\left(t \\right)} \\right)} & - l_{2} \\sin{\\left(t_{2} \\right)} \\sin{\\left(t_{1}{\\left(t \\right)} \\right)} + l_{2} \\cos{\\left(t_{2} \\right)} \\cos{\\left(t_{1}{\\left(t \\right)} \\right)} + l_{3} \\sin{\\left(t_{2} \\right)} \\sin{\\left(t_{1}{\\left(t \\right)} \\right)} \\cos{\\left(t_{3}{\\left(t \\right)} \\right)} + l_{3} \\sin{\\left(t_{2} \\right)} \\sin{\\left(t_{3}{\\left(t \\right)} \\right)} \\cos{\\left(t_{1}{\\left(t \\right)} \\right)} + l_{3} \\sin{\\left(t_{1}{\\left(t \\right)} \\right)} \\sin{\\left(t_{3}{\\left(t \\right)} \\right)} \\cos{\\left(t_{2} \\right)} - l_{3} \\cos{\\left(t_{2} \\right)} \\cos{\\left(t_{1}{\\left(t \\right)} \\right)} \\cos{\\left(t_{3}{\\left(t \\right)} \\right)} + l_{1}{\\left(t \\right)} \\cos{\\left(t_{1}{\\left(t \\right)} \\right)} & l_{3} \\sin{\\left(t_{2} \\right)} \\sin{\\left(t_{1}{\\left(t \\right)} \\right)} \\cos{\\left(t_{3}{\\left(t \\right)} \\right)} + l_{3} \\sin{\\left(t_{2} \\right)} \\sin{\\left(t_{3}{\\left(t \\right)} \\right)} \\cos{\\left(t_{1}{\\left(t \\right)} \\right)} + l_{3} \\sin{\\left(t_{1}{\\left(t \\right)} \\right)} \\sin{\\left(t_{3}{\\left(t \\right)} \\right)} \\cos{\\left(t_{2} \\right)} - l_{3} \\cos{\\left(t_{2} \\right)} \\cos{\\left(t_{1}{\\left(t \\right)} \\right)} \\cos{\\left(t_{3}{\\left(t \\right)} \\right)}\\\\0 & 1 & 1\\end{matrix}\\right]$"
      ],
      "text/plain": [
       "Matrix([\n",
       "[cos(t1(t)), -l2*sin(t2)*cos(t1(t)) - l2*sin(t1(t))*cos(t2) + l3*sin(t2)*sin(t1(t))*sin(t3(t)) - l3*sin(t2)*cos(t1(t))*cos(t3(t)) - l3*sin(t1(t))*cos(t2)*cos(t3(t)) - l3*sin(t3(t))*cos(t2)*cos(t1(t)) - l1(t)*sin(t1(t)), l3*sin(t2)*sin(t1(t))*sin(t3(t)) - l3*sin(t2)*cos(t1(t))*cos(t3(t)) - l3*sin(t1(t))*cos(t2)*cos(t3(t)) - l3*sin(t3(t))*cos(t2)*cos(t1(t))],\n",
       "[sin(t1(t)), -l2*sin(t2)*sin(t1(t)) + l2*cos(t2)*cos(t1(t)) + l3*sin(t2)*sin(t1(t))*cos(t3(t)) + l3*sin(t2)*sin(t3(t))*cos(t1(t)) + l3*sin(t1(t))*sin(t3(t))*cos(t2) - l3*cos(t2)*cos(t1(t))*cos(t3(t)) + l1(t)*cos(t1(t)), l3*sin(t2)*sin(t1(t))*cos(t3(t)) + l3*sin(t2)*sin(t3(t))*cos(t1(t)) + l3*sin(t1(t))*sin(t3(t))*cos(t2) - l3*cos(t2)*cos(t1(t))*cos(t3(t))],\n",
       "[         0,                                                                                                                                                                                                             1,                                                                                                                                         1]])"
      ]
     },
     "execution_count": 5,
     "metadata": {},
     "output_type": "execute_result"
    }
   ],
   "source": [
    "Jacobian"
   ]
  },
  {
   "cell_type": "code",
   "execution_count": 6,
   "id": "27526264",
   "metadata": {
    "scrolled": true
   },
   "outputs": [
    {
     "data": {
      "text/latex": [
       "$\\displaystyle \\left[\\begin{matrix}\\frac{- l_{2} \\sin{\\left(t_{2} \\right)} \\sin{\\left(t_{1}{\\left(t \\right)} \\right)} + l_{2} \\cos{\\left(t_{2} \\right)} \\cos{\\left(t_{1}{\\left(t \\right)} \\right)} + l_{1}{\\left(t \\right)} \\cos{\\left(t_{1}{\\left(t \\right)} \\right)}}{l_{2} \\sin^{2}{\\left(t_{1}{\\left(t \\right)} \\right)} \\cos{\\left(t_{2} \\right)} + l_{2} \\cos{\\left(t_{2} \\right)} \\cos^{2}{\\left(t_{1}{\\left(t \\right)} \\right)} + l_{1}{\\left(t \\right)} \\sin^{2}{\\left(t_{1}{\\left(t \\right)} \\right)} + l_{1}{\\left(t \\right)} \\cos^{2}{\\left(t_{1}{\\left(t \\right)} \\right)}} & \\frac{l_{2} \\sin{\\left(t_{2} \\right)} \\cos{\\left(t_{1}{\\left(t \\right)} \\right)} + l_{2} \\sin{\\left(t_{1}{\\left(t \\right)} \\right)} \\cos{\\left(t_{2} \\right)} + l_{1}{\\left(t \\right)} \\sin{\\left(t_{1}{\\left(t \\right)} \\right)}}{l_{2} \\sin^{2}{\\left(t_{1}{\\left(t \\right)} \\right)} \\cos{\\left(t_{2} \\right)} + l_{2} \\cos{\\left(t_{2} \\right)} \\cos^{2}{\\left(t_{1}{\\left(t \\right)} \\right)} + l_{1}{\\left(t \\right)} \\sin^{2}{\\left(t_{1}{\\left(t \\right)} \\right)} + l_{1}{\\left(t \\right)} \\cos^{2}{\\left(t_{1}{\\left(t \\right)} \\right)}} & \\frac{l_{2} l_{3} \\sin^{2}{\\left(t_{2} \\right)} \\sin^{2}{\\left(t_{1}{\\left(t \\right)} \\right)} \\sin{\\left(t_{3}{\\left(t \\right)} \\right)} - 2 l_{2} l_{3} \\sin^{2}{\\left(t_{2} \\right)} \\sin{\\left(t_{1}{\\left(t \\right)} \\right)} \\cos{\\left(t_{1}{\\left(t \\right)} \\right)} \\cos{\\left(t_{3}{\\left(t \\right)} \\right)} - l_{2} l_{3} \\sin^{2}{\\left(t_{2} \\right)} \\sin{\\left(t_{3}{\\left(t \\right)} \\right)} \\cos^{2}{\\left(t_{1}{\\left(t \\right)} \\right)} - 2 l_{2} l_{3} \\sin{\\left(t_{2} \\right)} \\sin^{2}{\\left(t_{1}{\\left(t \\right)} \\right)} \\cos{\\left(t_{2} \\right)} \\cos{\\left(t_{3}{\\left(t \\right)} \\right)} - 4 l_{2} l_{3} \\sin{\\left(t_{2} \\right)} \\sin{\\left(t_{1}{\\left(t \\right)} \\right)} \\sin{\\left(t_{3}{\\left(t \\right)} \\right)} \\cos{\\left(t_{2} \\right)} \\cos{\\left(t_{1}{\\left(t \\right)} \\right)} + 2 l_{2} l_{3} \\sin{\\left(t_{2} \\right)} \\cos{\\left(t_{2} \\right)} \\cos^{2}{\\left(t_{1}{\\left(t \\right)} \\right)} \\cos{\\left(t_{3}{\\left(t \\right)} \\right)} - l_{2} l_{3} \\sin^{2}{\\left(t_{1}{\\left(t \\right)} \\right)} \\sin{\\left(t_{3}{\\left(t \\right)} \\right)} \\cos^{2}{\\left(t_{2} \\right)} + 2 l_{2} l_{3} \\sin{\\left(t_{1}{\\left(t \\right)} \\right)} \\cos^{2}{\\left(t_{2} \\right)} \\cos{\\left(t_{1}{\\left(t \\right)} \\right)} \\cos{\\left(t_{3}{\\left(t \\right)} \\right)} + l_{2} l_{3} \\sin{\\left(t_{3}{\\left(t \\right)} \\right)} \\cos^{2}{\\left(t_{2} \\right)} \\cos^{2}{\\left(t_{1}{\\left(t \\right)} \\right)} - l_{3} l_{1}{\\left(t \\right)} \\sin{\\left(t_{2} \\right)} \\sin^{2}{\\left(t_{1}{\\left(t \\right)} \\right)} \\cos{\\left(t_{3}{\\left(t \\right)} \\right)} - 2 l_{3} l_{1}{\\left(t \\right)} \\sin{\\left(t_{2} \\right)} \\sin{\\left(t_{1}{\\left(t \\right)} \\right)} \\sin{\\left(t_{3}{\\left(t \\right)} \\right)} \\cos{\\left(t_{1}{\\left(t \\right)} \\right)} + l_{3} l_{1}{\\left(t \\right)} \\sin{\\left(t_{2} \\right)} \\cos^{2}{\\left(t_{1}{\\left(t \\right)} \\right)} \\cos{\\left(t_{3}{\\left(t \\right)} \\right)} - l_{3} l_{1}{\\left(t \\right)} \\sin^{2}{\\left(t_{1}{\\left(t \\right)} \\right)} \\sin{\\left(t_{3}{\\left(t \\right)} \\right)} \\cos{\\left(t_{2} \\right)} + 2 l_{3} l_{1}{\\left(t \\right)} \\sin{\\left(t_{1}{\\left(t \\right)} \\right)} \\cos{\\left(t_{2} \\right)} \\cos{\\left(t_{1}{\\left(t \\right)} \\right)} \\cos{\\left(t_{3}{\\left(t \\right)} \\right)} + l_{3} l_{1}{\\left(t \\right)} \\sin{\\left(t_{3}{\\left(t \\right)} \\right)} \\cos{\\left(t_{2} \\right)} \\cos^{2}{\\left(t_{1}{\\left(t \\right)} \\right)}}{l_{2} \\sin^{2}{\\left(t_{1}{\\left(t \\right)} \\right)} \\cos{\\left(t_{2} \\right)} + l_{2} \\cos{\\left(t_{2} \\right)} \\cos^{2}{\\left(t_{1}{\\left(t \\right)} \\right)} + l_{1}{\\left(t \\right)} \\sin^{2}{\\left(t_{1}{\\left(t \\right)} \\right)} + l_{1}{\\left(t \\right)} \\cos^{2}{\\left(t_{1}{\\left(t \\right)} \\right)}}\\\\- \\frac{\\sin{\\left(t_{1}{\\left(t \\right)} \\right)}}{l_{2} \\sin^{2}{\\left(t_{1}{\\left(t \\right)} \\right)} \\cos{\\left(t_{2} \\right)} + l_{2} \\cos{\\left(t_{2} \\right)} \\cos^{2}{\\left(t_{1}{\\left(t \\right)} \\right)} + l_{1}{\\left(t \\right)} \\sin^{2}{\\left(t_{1}{\\left(t \\right)} \\right)} + l_{1}{\\left(t \\right)} \\cos^{2}{\\left(t_{1}{\\left(t \\right)} \\right)}} & \\frac{\\cos{\\left(t_{1}{\\left(t \\right)} \\right)}}{l_{2} \\sin^{2}{\\left(t_{1}{\\left(t \\right)} \\right)} \\cos{\\left(t_{2} \\right)} + l_{2} \\cos{\\left(t_{2} \\right)} \\cos^{2}{\\left(t_{1}{\\left(t \\right)} \\right)} + l_{1}{\\left(t \\right)} \\sin^{2}{\\left(t_{1}{\\left(t \\right)} \\right)} + l_{1}{\\left(t \\right)} \\cos^{2}{\\left(t_{1}{\\left(t \\right)} \\right)}} & \\frac{l_{3} \\sin{\\left(t_{2} \\right)} \\sin^{2}{\\left(t_{1}{\\left(t \\right)} \\right)} \\sin{\\left(t_{3}{\\left(t \\right)} \\right)} - 2 l_{3} \\sin{\\left(t_{2} \\right)} \\sin{\\left(t_{1}{\\left(t \\right)} \\right)} \\cos{\\left(t_{1}{\\left(t \\right)} \\right)} \\cos{\\left(t_{3}{\\left(t \\right)} \\right)} - l_{3} \\sin{\\left(t_{2} \\right)} \\sin{\\left(t_{3}{\\left(t \\right)} \\right)} \\cos^{2}{\\left(t_{1}{\\left(t \\right)} \\right)} - l_{3} \\sin^{2}{\\left(t_{1}{\\left(t \\right)} \\right)} \\cos{\\left(t_{2} \\right)} \\cos{\\left(t_{3}{\\left(t \\right)} \\right)} - 2 l_{3} \\sin{\\left(t_{1}{\\left(t \\right)} \\right)} \\sin{\\left(t_{3}{\\left(t \\right)} \\right)} \\cos{\\left(t_{2} \\right)} \\cos{\\left(t_{1}{\\left(t \\right)} \\right)} + l_{3} \\cos{\\left(t_{2} \\right)} \\cos^{2}{\\left(t_{1}{\\left(t \\right)} \\right)} \\cos{\\left(t_{3}{\\left(t \\right)} \\right)}}{l_{2} \\sin^{2}{\\left(t_{1}{\\left(t \\right)} \\right)} \\cos{\\left(t_{2} \\right)} + l_{2} \\cos{\\left(t_{2} \\right)} \\cos^{2}{\\left(t_{1}{\\left(t \\right)} \\right)} + l_{1}{\\left(t \\right)} \\sin^{2}{\\left(t_{1}{\\left(t \\right)} \\right)} + l_{1}{\\left(t \\right)} \\cos^{2}{\\left(t_{1}{\\left(t \\right)} \\right)}}\\\\\\frac{\\sin{\\left(t_{1}{\\left(t \\right)} \\right)}}{l_{2} \\sin^{2}{\\left(t_{1}{\\left(t \\right)} \\right)} \\cos{\\left(t_{2} \\right)} + l_{2} \\cos{\\left(t_{2} \\right)} \\cos^{2}{\\left(t_{1}{\\left(t \\right)} \\right)} + l_{1}{\\left(t \\right)} \\sin^{2}{\\left(t_{1}{\\left(t \\right)} \\right)} + l_{1}{\\left(t \\right)} \\cos^{2}{\\left(t_{1}{\\left(t \\right)} \\right)}} & - \\frac{\\cos{\\left(t_{1}{\\left(t \\right)} \\right)}}{l_{2} \\sin^{2}{\\left(t_{1}{\\left(t \\right)} \\right)} \\cos{\\left(t_{2} \\right)} + l_{2} \\cos{\\left(t_{2} \\right)} \\cos^{2}{\\left(t_{1}{\\left(t \\right)} \\right)} + l_{1}{\\left(t \\right)} \\sin^{2}{\\left(t_{1}{\\left(t \\right)} \\right)} + l_{1}{\\left(t \\right)} \\cos^{2}{\\left(t_{1}{\\left(t \\right)} \\right)}} & \\frac{l_{2} \\sin^{2}{\\left(t_{1}{\\left(t \\right)} \\right)} \\cos{\\left(t_{2} \\right)} + l_{2} \\cos{\\left(t_{2} \\right)} \\cos^{2}{\\left(t_{1}{\\left(t \\right)} \\right)} - l_{3} \\sin{\\left(t_{2} \\right)} \\sin^{2}{\\left(t_{1}{\\left(t \\right)} \\right)} \\sin{\\left(t_{3}{\\left(t \\right)} \\right)} + 2 l_{3} \\sin{\\left(t_{2} \\right)} \\sin{\\left(t_{1}{\\left(t \\right)} \\right)} \\cos{\\left(t_{1}{\\left(t \\right)} \\right)} \\cos{\\left(t_{3}{\\left(t \\right)} \\right)} + l_{3} \\sin{\\left(t_{2} \\right)} \\sin{\\left(t_{3}{\\left(t \\right)} \\right)} \\cos^{2}{\\left(t_{1}{\\left(t \\right)} \\right)} + l_{3} \\sin^{2}{\\left(t_{1}{\\left(t \\right)} \\right)} \\cos{\\left(t_{2} \\right)} \\cos{\\left(t_{3}{\\left(t \\right)} \\right)} + 2 l_{3} \\sin{\\left(t_{1}{\\left(t \\right)} \\right)} \\sin{\\left(t_{3}{\\left(t \\right)} \\right)} \\cos{\\left(t_{2} \\right)} \\cos{\\left(t_{1}{\\left(t \\right)} \\right)} - l_{3} \\cos{\\left(t_{2} \\right)} \\cos^{2}{\\left(t_{1}{\\left(t \\right)} \\right)} \\cos{\\left(t_{3}{\\left(t \\right)} \\right)} + l_{1}{\\left(t \\right)} \\sin^{2}{\\left(t_{1}{\\left(t \\right)} \\right)} + l_{1}{\\left(t \\right)} \\cos^{2}{\\left(t_{1}{\\left(t \\right)} \\right)}}{l_{2} \\sin^{2}{\\left(t_{1}{\\left(t \\right)} \\right)} \\cos{\\left(t_{2} \\right)} + l_{2} \\cos{\\left(t_{2} \\right)} \\cos^{2}{\\left(t_{1}{\\left(t \\right)} \\right)} + l_{1}{\\left(t \\right)} \\sin^{2}{\\left(t_{1}{\\left(t \\right)} \\right)} + l_{1}{\\left(t \\right)} \\cos^{2}{\\left(t_{1}{\\left(t \\right)} \\right)}}\\end{matrix}\\right]$"
      ],
      "text/plain": [
       "Matrix([\n",
       "[(-l2*sin(t2)*sin(t1(t)) + l2*cos(t2)*cos(t1(t)) + l1(t)*cos(t1(t)))/(l2*sin(t1(t))**2*cos(t2) + l2*cos(t2)*cos(t1(t))**2 + l1(t)*sin(t1(t))**2 + l1(t)*cos(t1(t))**2), (l2*sin(t2)*cos(t1(t)) + l2*sin(t1(t))*cos(t2) + l1(t)*sin(t1(t)))/(l2*sin(t1(t))**2*cos(t2) + l2*cos(t2)*cos(t1(t))**2 + l1(t)*sin(t1(t))**2 + l1(t)*cos(t1(t))**2), (l2*l3*sin(t2)**2*sin(t1(t))**2*sin(t3(t)) - 2*l2*l3*sin(t2)**2*sin(t1(t))*cos(t1(t))*cos(t3(t)) - l2*l3*sin(t2)**2*sin(t3(t))*cos(t1(t))**2 - 2*l2*l3*sin(t2)*sin(t1(t))**2*cos(t2)*cos(t3(t)) - 4*l2*l3*sin(t2)*sin(t1(t))*sin(t3(t))*cos(t2)*cos(t1(t)) + 2*l2*l3*sin(t2)*cos(t2)*cos(t1(t))**2*cos(t3(t)) - l2*l3*sin(t1(t))**2*sin(t3(t))*cos(t2)**2 + 2*l2*l3*sin(t1(t))*cos(t2)**2*cos(t1(t))*cos(t3(t)) + l2*l3*sin(t3(t))*cos(t2)**2*cos(t1(t))**2 - l3*l1(t)*sin(t2)*sin(t1(t))**2*cos(t3(t)) - 2*l3*l1(t)*sin(t2)*sin(t1(t))*sin(t3(t))*cos(t1(t)) + l3*l1(t)*sin(t2)*cos(t1(t))**2*cos(t3(t)) - l3*l1(t)*sin(t1(t))**2*sin(t3(t))*cos(t2) + 2*l3*l1(t)*sin(t1(t))*cos(t2)*cos(t1(t))*cos(t3(t)) + l3*l1(t)*sin(t3(t))*cos(t2)*cos(t1(t))**2)/(l2*sin(t1(t))**2*cos(t2) + l2*cos(t2)*cos(t1(t))**2 + l1(t)*sin(t1(t))**2 + l1(t)*cos(t1(t))**2)],\n",
       "[                                                        -sin(t1(t))/(l2*sin(t1(t))**2*cos(t2) + l2*cos(t2)*cos(t1(t))**2 + l1(t)*sin(t1(t))**2 + l1(t)*cos(t1(t))**2),                                                         cos(t1(t))/(l2*sin(t1(t))**2*cos(t2) + l2*cos(t2)*cos(t1(t))**2 + l1(t)*sin(t1(t))**2 + l1(t)*cos(t1(t))**2),                                                                                                                                                                                                                                                                                                                                                                                                                                                                                                  (l3*sin(t2)*sin(t1(t))**2*sin(t3(t)) - 2*l3*sin(t2)*sin(t1(t))*cos(t1(t))*cos(t3(t)) - l3*sin(t2)*sin(t3(t))*cos(t1(t))**2 - l3*sin(t1(t))**2*cos(t2)*cos(t3(t)) - 2*l3*sin(t1(t))*sin(t3(t))*cos(t2)*cos(t1(t)) + l3*cos(t2)*cos(t1(t))**2*cos(t3(t)))/(l2*sin(t1(t))**2*cos(t2) + l2*cos(t2)*cos(t1(t))**2 + l1(t)*sin(t1(t))**2 + l1(t)*cos(t1(t))**2)],\n",
       "[                                                         sin(t1(t))/(l2*sin(t1(t))**2*cos(t2) + l2*cos(t2)*cos(t1(t))**2 + l1(t)*sin(t1(t))**2 + l1(t)*cos(t1(t))**2),                                                        -cos(t1(t))/(l2*sin(t1(t))**2*cos(t2) + l2*cos(t2)*cos(t1(t))**2 + l1(t)*sin(t1(t))**2 + l1(t)*cos(t1(t))**2),                                                                                                                                                                                                                                                                                                                                                                                                (l2*sin(t1(t))**2*cos(t2) + l2*cos(t2)*cos(t1(t))**2 - l3*sin(t2)*sin(t1(t))**2*sin(t3(t)) + 2*l3*sin(t2)*sin(t1(t))*cos(t1(t))*cos(t3(t)) + l3*sin(t2)*sin(t3(t))*cos(t1(t))**2 + l3*sin(t1(t))**2*cos(t2)*cos(t3(t)) + 2*l3*sin(t1(t))*sin(t3(t))*cos(t2)*cos(t1(t)) - l3*cos(t2)*cos(t1(t))**2*cos(t3(t)) + l1(t)*sin(t1(t))**2 + l1(t)*cos(t1(t))**2)/(l2*sin(t1(t))**2*cos(t2) + l2*cos(t2)*cos(t1(t))**2 + l1(t)*sin(t1(t))**2 + l1(t)*cos(t1(t))**2)]])"
      ]
     },
     "execution_count": 6,
     "metadata": {},
     "output_type": "execute_result"
    }
   ],
   "source": [
    "Jacobian_inverse"
   ]
  },
  {
   "cell_type": "code",
   "execution_count": null,
   "id": "e2481eba",
   "metadata": {},
   "outputs": [],
   "source": []
  }
 ],
 "metadata": {
  "kernelspec": {
   "display_name": "Python 3 (ipykernel)",
   "language": "python",
   "name": "python3"
  },
  "language_info": {
   "codemirror_mode": {
    "name": "ipython",
    "version": 3
   },
   "file_extension": ".py",
   "mimetype": "text/x-python",
   "name": "python",
   "nbconvert_exporter": "python",
   "pygments_lexer": "ipython3",
   "version": "3.9.18"
  }
 },
 "nbformat": 4,
 "nbformat_minor": 5
}
